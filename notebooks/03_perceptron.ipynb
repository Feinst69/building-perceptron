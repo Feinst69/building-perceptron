{
 "cells": [
  {
   "cell_type": "code",
   "execution_count": null,
   "id": "2b8c4cce-b261-4d11-9bf3-f2f180a96e42",
   "metadata": {},
   "outputs": [],
   "source": []
  },
  {
   "cell_type": "code",
   "execution_count": 1,
   "id": "a9dc7f45-3041-43ac-85d2-d3bcc71b9d59",
   "metadata": {},
   "outputs": [],
   "source": [
    "import numpy as np"
   ]
  },
  {
   "cell_type": "code",
   "execution_count": 2,
   "id": "c5bea049-a6c2-4d4a-886f-ec28dc38148c",
   "metadata": {},
   "outputs": [],
   "source": [
    "class Perceptron:\n",
    "    def __init__(self, weights, bias, learning_rate):\n",
    "        self.weights = weights\n",
    "        self.bias = bias\n",
    "        self.learning_rate = learning_rate\n",
    "\n",
    "    def activation(self, weighted_sum):\n",
    "        return 0 if weighted_sum < 0 else 1\n",
    "        #return sigmoid(weighted_sum)\n",
    "        \n",
    "    def forward(self,inputs):\n",
    "        weighted_sum = np.dot(inputs,self.weights) + self.bias\n",
    "        return self.activation(weighted_sum)\n",
    "\n",
    "    def learn(self, inputs, target):\n",
    "        output = self.forward(inputs)\n",
    "        step = self.learning_rate * (target - output)\n",
    "        self.bias += step\n",
    "        self.weights +=  step * inputs\n",
    "        return 1-abs(output-target)\n",
    "        #return cross_entropy_loss(target,output)\n",
    "\n",
    "# Loss function\n",
    "def cross_entropy_loss(target,pred):\n",
    "    print(target,pred)\n",
    "    return -((1-target)*(np.log10(1-pred)) + (target * np.log10(pred)))\n",
    "    \n",
    "# Activation function\n",
    "def sigmoid(x):\n",
    "    return 1/(1+np.exp(-x))"
   ]
  },
  {
   "cell_type": "code",
   "execution_count": 3,
   "id": "2bd82d00-638e-4d12-a208-8501bc2479a4",
   "metadata": {},
   "outputs": [],
   "source": [
    "# Input data\n",
    "features = np.array([[0.1,0.5,0.2],\n",
    "                     [0.2,0.3,0.1],\n",
    "                     [0.4,0.1,0.2],\n",
    "                     [0.4,0.1,0.3]])\n",
    "\n",
    "# Targets\n",
    "targets = np.array([1,0,1,0])\n",
    "\n",
    "# Weights\n",
    "w_weights = np.array([0.4,0.2,0.6])\n",
    "\n",
    "# Bias\n",
    "bias = 0.5\n",
    "\n",
    "# Learning rate\n",
    "learning_rate = 0.1"
   ]
  },
  {
   "cell_type": "code",
   "execution_count": 4,
   "id": "08e238c3-1e20-4d85-b293-4afd57c38af5",
   "metadata": {},
   "outputs": [
    {
     "name": "stdout",
     "output_type": "stream",
     "text": [
      "Epoch #0 :  loss=0.5\n",
      "Epoch #1 :  loss=0.5\n",
      "Epoch #2 :  loss=0.5\n",
      "Epoch #3 :  loss=0.25\n",
      "Epoch #4 :  loss=0.0\n",
      "Epoch #5 :  loss=0.0\n",
      "Epoch #6 :  loss=0.0\n",
      "Epoch #7 :  loss=0.0\n",
      "Epoch #8 :  loss=0.0\n",
      "Epoch #9 :  loss=0.0\n",
      "Epoch #10 :  loss=0.0\n",
      "Epoch #11 :  loss=0.0\n",
      "Epoch #12 :  loss=0.5\n",
      "Epoch #13 :  loss=0.5\n",
      "Epoch #14 :  loss=0.5\n",
      "Epoch #15 :  loss=0.5\n",
      "Epoch #16 :  loss=0.5\n",
      "Epoch #17 :  loss=0.0\n",
      "Epoch #18 :  loss=0.5\n",
      "Epoch #19 :  loss=0.5\n",
      "Epoch #20 :  loss=0.5\n",
      "Epoch #21 :  loss=0.5\n",
      "Epoch #22 :  loss=0.5\n",
      "Epoch #23 :  loss=0.0\n",
      "Epoch #24 :  loss=0.5\n",
      "Epoch #25 :  loss=0.5\n",
      "Epoch #26 :  loss=0.5\n",
      "Epoch #27 :  loss=0.5\n",
      "Epoch #28 :  loss=0.0\n",
      "Epoch #29 :  loss=0.5\n",
      "Epoch #30 :  loss=0.5\n",
      "Epoch #31 :  loss=0.5\n",
      "Epoch #32 :  loss=0.5\n",
      "Epoch #33 :  loss=0.5\n",
      "Epoch #34 :  loss=0.0\n",
      "Epoch #35 :  loss=0.5\n",
      "Epoch #36 :  loss=0.5\n",
      "Epoch #37 :  loss=0.5\n",
      "Epoch #38 :  loss=0.5\n",
      "Epoch #39 :  loss=0.0\n",
      "Epoch #40 :  loss=0.5\n",
      "Epoch #41 :  loss=0.5\n",
      "Epoch #42 :  loss=0.5\n",
      "Epoch #43 :  loss=0.5\n",
      "Epoch #44 :  loss=0.5\n",
      "Epoch #45 :  loss=0.0\n",
      "Epoch #46 :  loss=0.5\n",
      "Epoch #47 :  loss=0.5\n",
      "Epoch #48 :  loss=0.5\n",
      "Epoch #49 :  loss=0.5\n",
      "Epoch #50 :  loss=0.0\n",
      "Epoch #51 :  loss=0.5\n",
      "Epoch #52 :  loss=0.5\n",
      "Epoch #53 :  loss=0.5\n",
      "Epoch #54 :  loss=0.5\n",
      "Epoch #55 :  loss=0.5\n",
      "Epoch #56 :  loss=0.0\n",
      "Epoch #57 :  loss=0.5\n",
      "Epoch #58 :  loss=0.75\n",
      "Epoch #59 :  loss=0.25\n",
      "Epoch #60 :  loss=0.0\n",
      "Epoch #61 :  loss=0.5\n",
      "Epoch #62 :  loss=0.5\n",
      "Epoch #63 :  loss=0.75\n",
      "Epoch #64 :  loss=0.25\n",
      "Epoch #65 :  loss=0.0\n",
      "Epoch #66 :  loss=0.5\n",
      "Epoch #67 :  loss=0.75\n",
      "Epoch #68 :  loss=0.25\n",
      "Epoch #69 :  loss=0.0\n",
      "Epoch #70 :  loss=0.5\n",
      "Epoch #71 :  loss=0.75\n",
      "Epoch #72 :  loss=0.25\n",
      "Epoch #73 :  loss=0.0\n",
      "Epoch #74 :  loss=0.5\n",
      "Epoch #75 :  loss=0.0\n",
      "Epoch #76 :  loss=0.75\n",
      "Epoch #77 :  loss=0.25\n",
      "Epoch #78 :  loss=0.5\n",
      "Epoch #79 :  loss=0.0\n",
      "Epoch #80 :  loss=0.75\n",
      "Epoch #81 :  loss=0.25\n",
      "Epoch #82 :  loss=0.0\n",
      "Epoch #83 :  loss=0.5\n",
      "Epoch #84 :  loss=0.5\n",
      "Epoch #85 :  loss=0.75\n",
      "Epoch #86 :  loss=0.25\n",
      "Epoch #87 :  loss=0.0\n",
      "Epoch #88 :  loss=0.5\n",
      "Epoch #89 :  loss=0.75\n",
      "Epoch #90 :  loss=0.25\n",
      "Epoch #91 :  loss=0.0\n",
      "Epoch #92 :  loss=0.5\n",
      "Epoch #93 :  loss=0.75\n",
      "Epoch #94 :  loss=0.25\n",
      "Epoch #95 :  loss=0.0\n",
      "Epoch #96 :  loss=0.5\n",
      "Epoch #97 :  loss=0.5\n",
      "Epoch #98 :  loss=0.25\n",
      "Epoch #99 :  loss=0.25\n"
     ]
    }
   ],
   "source": [
    "p = Perceptron(w_weights,bias,learning_rate)\n",
    "n_epochs = 100\n",
    "for epoch in range(n_epochs):\n",
    "    losses = []\n",
    "    for i, feature in enumerate(features):\n",
    "        target = targets[i]\n",
    "        losses.append(p.learn(feature,target))\n",
    "    print(f\"Epoch #{epoch} :  loss={np.mean(losses)}\")"
   ]
  },
  {
   "cell_type": "code",
   "execution_count": 5,
   "id": "2241b3e9-26ac-4775-a1c0-6f0986334b15",
   "metadata": {},
   "outputs": [
    {
     "data": {
      "text/plain": [
       "array([ 0.13,  0.39, -0.03])"
      ]
     },
     "execution_count": 5,
     "metadata": {},
     "output_type": "execute_result"
    }
   ],
   "source": [
    "p.weights"
   ]
  },
  {
   "cell_type": "code",
   "execution_count": 6,
   "id": "ce85bc24-a22e-4471-a995-9d9f2fbca955",
   "metadata": {},
   "outputs": [
    {
     "name": "stdout",
     "output_type": "stream",
     "text": [
      "1 1\n",
      "0 0\n",
      "0 1\n",
      "0 0\n"
     ]
    }
   ],
   "source": [
    "for i, feature in enumerate(features):\n",
    "    print(p.forward(feature),targets[i])"
   ]
  }
 ],
 "metadata": {
  "kernelspec": {
   "display_name": "Python 3 (ipykernel)",
   "language": "python",
   "name": "python3"
  },
  "language_info": {
   "codemirror_mode": {
    "name": "ipython",
    "version": 3
   },
   "file_extension": ".py",
   "mimetype": "text/x-python",
   "name": "python",
   "nbconvert_exporter": "python",
   "pygments_lexer": "ipython3",
   "version": "3.12.7"
  }
 },
 "nbformat": 4,
 "nbformat_minor": 5
}
