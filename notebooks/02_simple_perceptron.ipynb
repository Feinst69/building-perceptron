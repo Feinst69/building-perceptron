{
 "cells": [
  {
   "cell_type": "code",
   "execution_count": 1,
   "id": "3d9abd77-3134-43ad-a37f-11594149be10",
   "metadata": {},
   "outputs": [],
   "source": [
    "import numpy as np"
   ]
  },
  {
   "cell_type": "code",
   "execution_count": 2,
   "id": "c79bacef-bac2-435d-875c-956202f0d427",
   "metadata": {},
   "outputs": [],
   "source": [
    "class Perceptron:\n",
    "    def __init__(self):\n",
    "        self.weights = None\n",
    "        self.bias = 0\n",
    "\n",
    "    def init_weights(self,X):\n",
    "        self.weights = np.zeros(len(X),dtype=\"int\")\n",
    "    \n",
    "    def forward(self, X):\n",
    "        if type(self.weights) is type(None):\n",
    "            self.init_weights(X)\n",
    "        y =   np.dot(X,self.weights) + self.bias\n",
    "        z = self.activation_function(y)\n",
    "        return z\n",
    "\n",
    "    def learn(self,X,d):\n",
    "        z = self.forward(X)\n",
    "        self.weights += (d-z) * X\n",
    "        self.bias += (d-z)\n",
    "        return d==z,z\n",
    "        \n",
    "    @staticmethod\n",
    "    def activation_function(x):\n",
    "        return 1 if x.sum() >= 0 else 0\n",
    "  "
   ]
  },
  {
   "cell_type": "code",
   "execution_count": 3,
   "id": "16abb4db-6695-4653-a8e7-b6171051c36e",
   "metadata": {},
   "outputs": [],
   "source": [
    "X = np.array([np.array([i,j,k,l]) for i in range(2) for j in range(2) for k in range(2) for l in range(2)])"
   ]
  },
  {
   "cell_type": "code",
   "execution_count": 4,
   "id": "93b6328c-9295-4988-bfd5-a3df55b43b95",
   "metadata": {},
   "outputs": [],
   "source": [
    "Y = np.zeros(len(X),dtype=\"int\")"
   ]
  },
  {
   "cell_type": "code",
   "execution_count": 5,
   "id": "78e9fe6f-83bf-401e-9600-fe1d6e451b59",
   "metadata": {},
   "outputs": [],
   "source": [
    "while Y.sum() != 1 :#len(X)//2:\n",
    "    i = np.random.randint(0,len(X))\n",
    "    Y[i] = 1"
   ]
  },
  {
   "cell_type": "code",
   "execution_count": 6,
   "id": "4fdadff3-3224-4c0a-a39d-f3b1ee336075",
   "metadata": {},
   "outputs": [
    {
     "data": {
      "text/plain": [
       "array([0, 0, 0, 0, 0, 0, 0, 0, 0, 0, 0, 1, 0, 0, 0, 0])"
      ]
     },
     "execution_count": 6,
     "metadata": {},
     "output_type": "execute_result"
    }
   ],
   "source": [
    "Y"
   ]
  },
  {
   "cell_type": "code",
   "execution_count": 7,
   "id": "30812db7-95a0-4cdc-b1f3-3451f982d7ec",
   "metadata": {},
   "outputs": [],
   "source": [
    "n = Perceptron()\n",
    "n.init_weights(X[0])\n",
    "epoch = 1\n",
    "max_epochs = 30 "
   ]
  },
  {
   "cell_type": "code",
   "execution_count": 8,
   "id": "e03ed32f-04ad-45f3-8f47-526a29e2bf3d",
   "metadata": {},
   "outputs": [
    {
     "name": "stdout",
     "output_type": "stream",
     "text": [
      "E01.01 : 0000 : z=1  d=0 : 0 0 0 0 -1\n",
      "E01.02 : 0001 : z=0  d=0 : 0 0 0 0 -1\n",
      "E01.03 : 0010 : z=0  d=0 : 0 0 0 0 -1\n",
      "E01.04 : 0011 : z=0  d=0 : 0 0 0 0 -1\n",
      "E01.05 : 0100 : z=0  d=0 : 0 0 0 0 -1\n",
      "E01.06 : 0101 : z=0  d=0 : 0 0 0 0 -1\n",
      "E01.07 : 0110 : z=0  d=0 : 0 0 0 0 -1\n",
      "E01.08 : 0111 : z=0  d=0 : 0 0 0 0 -1\n",
      "E01.09 : 1000 : z=0  d=0 : 0 0 0 0 -1\n",
      "E01.10 : 1001 : z=0  d=0 : 0 0 0 0 -1\n",
      "E01.11 : 1010 : z=0  d=0 : 0 0 0 0 -1\n",
      "E01.12 : 1011 : z=0  d=1 : 1 0 1 1 0\n",
      "E01.13 : 1100 : z=1  d=0 : 0 -1 1 1 -1\n",
      "E01.14 : 1101 : z=0  d=0 : 0 -1 1 1 -1\n",
      "E01.15 : 1110 : z=0  d=0 : 0 -1 1 1 -1\n",
      "E01.16 : 1111 : z=1  d=0 : -1 -2 0 0 -2\n",
      "Taux de réussite : 75.0%\n",
      "\n",
      "E02.01 : 0000 : z=0  d=0 : -1 -2 0 0 -2\n",
      "E02.02 : 0001 : z=0  d=0 : -1 -2 0 0 -2\n",
      "E02.03 : 0010 : z=0  d=0 : -1 -2 0 0 -2\n",
      "E02.04 : 0011 : z=0  d=0 : -1 -2 0 0 -2\n",
      "E02.05 : 0100 : z=0  d=0 : -1 -2 0 0 -2\n",
      "E02.06 : 0101 : z=0  d=0 : -1 -2 0 0 -2\n",
      "E02.07 : 0110 : z=0  d=0 : -1 -2 0 0 -2\n",
      "E02.08 : 0111 : z=0  d=0 : -1 -2 0 0 -2\n",
      "E02.09 : 1000 : z=0  d=0 : -1 -2 0 0 -2\n",
      "E02.10 : 1001 : z=0  d=0 : -1 -2 0 0 -2\n",
      "E02.11 : 1010 : z=0  d=0 : -1 -2 0 0 -2\n",
      "E02.12 : 1011 : z=0  d=1 : 0 -2 1 1 -1\n",
      "E02.13 : 1100 : z=0  d=0 : 0 -2 1 1 -1\n",
      "E02.14 : 1101 : z=0  d=0 : 0 -2 1 1 -1\n",
      "E02.15 : 1110 : z=0  d=0 : 0 -2 1 1 -1\n",
      "E02.16 : 1111 : z=0  d=0 : 0 -2 1 1 -1\n",
      "Taux de réussite : 93.75%\n",
      "\n",
      "E03.01 : 0000 : z=0  d=0 : 0 -2 1 1 -1\n",
      "E03.02 : 0001 : z=1  d=0 : 0 -2 1 0 -2\n",
      "E03.03 : 0010 : z=0  d=0 : 0 -2 1 0 -2\n",
      "E03.04 : 0011 : z=0  d=0 : 0 -2 1 0 -2\n",
      "E03.05 : 0100 : z=0  d=0 : 0 -2 1 0 -2\n",
      "E03.06 : 0101 : z=0  d=0 : 0 -2 1 0 -2\n",
      "E03.07 : 0110 : z=0  d=0 : 0 -2 1 0 -2\n",
      "E03.08 : 0111 : z=0  d=0 : 0 -2 1 0 -2\n",
      "E03.09 : 1000 : z=0  d=0 : 0 -2 1 0 -2\n",
      "E03.10 : 1001 : z=0  d=0 : 0 -2 1 0 -2\n",
      "E03.11 : 1010 : z=0  d=0 : 0 -2 1 0 -2\n",
      "E03.12 : 1011 : z=0  d=1 : 1 -2 2 1 -1\n",
      "E03.13 : 1100 : z=0  d=0 : 1 -2 2 1 -1\n",
      "E03.14 : 1101 : z=0  d=0 : 1 -2 2 1 -1\n",
      "E03.15 : 1110 : z=1  d=0 : 0 -3 1 1 -2\n",
      "E03.16 : 1111 : z=0  d=0 : 0 -3 1 1 -2\n",
      "Taux de réussite : 81.25%\n",
      "\n",
      "E04.01 : 0000 : z=0  d=0 : 0 -3 1 1 -2\n",
      "E04.02 : 0001 : z=0  d=0 : 0 -3 1 1 -2\n",
      "E04.03 : 0010 : z=0  d=0 : 0 -3 1 1 -2\n",
      "E04.04 : 0011 : z=1  d=0 : 0 -3 0 0 -3\n",
      "E04.05 : 0100 : z=0  d=0 : 0 -3 0 0 -3\n",
      "E04.06 : 0101 : z=0  d=0 : 0 -3 0 0 -3\n",
      "E04.07 : 0110 : z=0  d=0 : 0 -3 0 0 -3\n",
      "E04.08 : 0111 : z=0  d=0 : 0 -3 0 0 -3\n",
      "E04.09 : 1000 : z=0  d=0 : 0 -3 0 0 -3\n",
      "E04.10 : 1001 : z=0  d=0 : 0 -3 0 0 -3\n",
      "E04.11 : 1010 : z=0  d=0 : 0 -3 0 0 -3\n",
      "E04.12 : 1011 : z=0  d=1 : 1 -3 1 1 -2\n",
      "E04.13 : 1100 : z=0  d=0 : 1 -3 1 1 -2\n",
      "E04.14 : 1101 : z=0  d=0 : 1 -3 1 1 -2\n",
      "E04.15 : 1110 : z=0  d=0 : 1 -3 1 1 -2\n",
      "E04.16 : 1111 : z=0  d=0 : 1 -3 1 1 -2\n",
      "Taux de réussite : 87.5%\n",
      "\n",
      "E05.01 : 0000 : z=0  d=0 : 1 -3 1 1 -2\n",
      "E05.02 : 0001 : z=0  d=0 : 1 -3 1 1 -2\n",
      "E05.03 : 0010 : z=0  d=0 : 1 -3 1 1 -2\n",
      "E05.04 : 0011 : z=1  d=0 : 1 -3 0 0 -3\n",
      "E05.05 : 0100 : z=0  d=0 : 1 -3 0 0 -3\n",
      "E05.06 : 0101 : z=0  d=0 : 1 -3 0 0 -3\n",
      "E05.07 : 0110 : z=0  d=0 : 1 -3 0 0 -3\n",
      "E05.08 : 0111 : z=0  d=0 : 1 -3 0 0 -3\n",
      "E05.09 : 1000 : z=0  d=0 : 1 -3 0 0 -3\n",
      "E05.10 : 1001 : z=0  d=0 : 1 -3 0 0 -3\n",
      "E05.11 : 1010 : z=0  d=0 : 1 -3 0 0 -3\n",
      "E05.12 : 1011 : z=0  d=1 : 2 -3 1 1 -2\n",
      "E05.13 : 1100 : z=0  d=0 : 2 -3 1 1 -2\n",
      "E05.14 : 1101 : z=0  d=0 : 2 -3 1 1 -2\n",
      "E05.15 : 1110 : z=0  d=0 : 2 -3 1 1 -2\n",
      "E05.16 : 1111 : z=0  d=0 : 2 -3 1 1 -2\n",
      "Taux de réussite : 87.5%\n",
      "\n",
      "E06.01 : 0000 : z=0  d=0 : 2 -3 1 1 -2\n",
      "E06.02 : 0001 : z=0  d=0 : 2 -3 1 1 -2\n",
      "E06.03 : 0010 : z=0  d=0 : 2 -3 1 1 -2\n",
      "E06.04 : 0011 : z=1  d=0 : 2 -3 0 0 -3\n",
      "E06.05 : 0100 : z=0  d=0 : 2 -3 0 0 -3\n",
      "E06.06 : 0101 : z=0  d=0 : 2 -3 0 0 -3\n",
      "E06.07 : 0110 : z=0  d=0 : 2 -3 0 0 -3\n",
      "E06.08 : 0111 : z=0  d=0 : 2 -3 0 0 -3\n",
      "E06.09 : 1000 : z=0  d=0 : 2 -3 0 0 -3\n",
      "E06.10 : 1001 : z=0  d=0 : 2 -3 0 0 -3\n",
      "E06.11 : 1010 : z=0  d=0 : 2 -3 0 0 -3\n",
      "E06.12 : 1011 : z=0  d=1 : 3 -3 1 1 -2\n",
      "E06.13 : 1100 : z=0  d=0 : 3 -3 1 1 -2\n",
      "E06.14 : 1101 : z=0  d=0 : 3 -3 1 1 -2\n",
      "E06.15 : 1110 : z=0  d=0 : 3 -3 1 1 -2\n",
      "E06.16 : 1111 : z=1  d=0 : 2 -4 0 0 -3\n",
      "Taux de réussite : 81.25%\n",
      "\n",
      "E07.01 : 0000 : z=0  d=0 : 2 -4 0 0 -3\n",
      "E07.02 : 0001 : z=0  d=0 : 2 -4 0 0 -3\n",
      "E07.03 : 0010 : z=0  d=0 : 2 -4 0 0 -3\n",
      "E07.04 : 0011 : z=0  d=0 : 2 -4 0 0 -3\n",
      "E07.05 : 0100 : z=0  d=0 : 2 -4 0 0 -3\n",
      "E07.06 : 0101 : z=0  d=0 : 2 -4 0 0 -3\n",
      "E07.07 : 0110 : z=0  d=0 : 2 -4 0 0 -3\n",
      "E07.08 : 0111 : z=0  d=0 : 2 -4 0 0 -3\n",
      "E07.09 : 1000 : z=0  d=0 : 2 -4 0 0 -3\n",
      "E07.10 : 1001 : z=0  d=0 : 2 -4 0 0 -3\n",
      "E07.11 : 1010 : z=0  d=0 : 2 -4 0 0 -3\n",
      "E07.12 : 1011 : z=0  d=1 : 3 -4 1 1 -2\n",
      "E07.13 : 1100 : z=0  d=0 : 3 -4 1 1 -2\n",
      "E07.14 : 1101 : z=0  d=0 : 3 -4 1 1 -2\n",
      "E07.15 : 1110 : z=0  d=0 : 3 -4 1 1 -2\n",
      "E07.16 : 1111 : z=0  d=0 : 3 -4 1 1 -2\n",
      "Taux de réussite : 93.75%\n",
      "\n",
      "E08.01 : 0000 : z=0  d=0 : 3 -4 1 1 -2\n",
      "E08.02 : 0001 : z=0  d=0 : 3 -4 1 1 -2\n",
      "E08.03 : 0010 : z=0  d=0 : 3 -4 1 1 -2\n",
      "E08.04 : 0011 : z=1  d=0 : 3 -4 0 0 -3\n",
      "E08.05 : 0100 : z=0  d=0 : 3 -4 0 0 -3\n",
      "E08.06 : 0101 : z=0  d=0 : 3 -4 0 0 -3\n",
      "E08.07 : 0110 : z=0  d=0 : 3 -4 0 0 -3\n",
      "E08.08 : 0111 : z=0  d=0 : 3 -4 0 0 -3\n",
      "E08.09 : 1000 : z=1  d=0 : 2 -4 0 0 -4\n",
      "E08.10 : 1001 : z=0  d=0 : 2 -4 0 0 -4\n",
      "E08.11 : 1010 : z=0  d=0 : 2 -4 0 0 -4\n",
      "E08.12 : 1011 : z=0  d=1 : 3 -4 1 1 -3\n",
      "E08.13 : 1100 : z=0  d=0 : 3 -4 1 1 -3\n",
      "E08.14 : 1101 : z=0  d=0 : 3 -4 1 1 -3\n",
      "E08.15 : 1110 : z=0  d=0 : 3 -4 1 1 -3\n",
      "E08.16 : 1111 : z=0  d=0 : 3 -4 1 1 -3\n",
      "Taux de réussite : 81.25%\n",
      "\n",
      "E09.01 : 0000 : z=0  d=0 : 3 -4 1 1 -3\n",
      "E09.02 : 0001 : z=0  d=0 : 3 -4 1 1 -3\n",
      "E09.03 : 0010 : z=0  d=0 : 3 -4 1 1 -3\n",
      "E09.04 : 0011 : z=0  d=0 : 3 -4 1 1 -3\n",
      "E09.05 : 0100 : z=0  d=0 : 3 -4 1 1 -3\n",
      "E09.06 : 0101 : z=0  d=0 : 3 -4 1 1 -3\n",
      "E09.07 : 0110 : z=0  d=0 : 3 -4 1 1 -3\n",
      "E09.08 : 0111 : z=0  d=0 : 3 -4 1 1 -3\n",
      "E09.09 : 1000 : z=1  d=0 : 2 -4 1 1 -4\n",
      "E09.10 : 1001 : z=0  d=0 : 2 -4 1 1 -4\n",
      "E09.11 : 1010 : z=0  d=0 : 2 -4 1 1 -4\n",
      "E09.12 : 1011 : z=1  d=1 : 2 -4 1 1 -4\n",
      "E09.13 : 1100 : z=0  d=0 : 2 -4 1 1 -4\n",
      "E09.14 : 1101 : z=0  d=0 : 2 -4 1 1 -4\n",
      "E09.15 : 1110 : z=0  d=0 : 2 -4 1 1 -4\n",
      "E09.16 : 1111 : z=0  d=0 : 2 -4 1 1 -4\n",
      "Taux de réussite : 93.75%\n",
      "\n",
      "E10.01 : 0000 : z=0  d=0 : 2 -4 1 1 -4\n",
      "E10.02 : 0001 : z=0  d=0 : 2 -4 1 1 -4\n",
      "E10.03 : 0010 : z=0  d=0 : 2 -4 1 1 -4\n",
      "E10.04 : 0011 : z=0  d=0 : 2 -4 1 1 -4\n",
      "E10.05 : 0100 : z=0  d=0 : 2 -4 1 1 -4\n",
      "E10.06 : 0101 : z=0  d=0 : 2 -4 1 1 -4\n",
      "E10.07 : 0110 : z=0  d=0 : 2 -4 1 1 -4\n",
      "E10.08 : 0111 : z=0  d=0 : 2 -4 1 1 -4\n",
      "E10.09 : 1000 : z=0  d=0 : 2 -4 1 1 -4\n",
      "E10.10 : 1001 : z=0  d=0 : 2 -4 1 1 -4\n",
      "E10.11 : 1010 : z=0  d=0 : 2 -4 1 1 -4\n",
      "E10.12 : 1011 : z=1  d=1 : 2 -4 1 1 -4\n",
      "E10.13 : 1100 : z=0  d=0 : 2 -4 1 1 -4\n",
      "E10.14 : 1101 : z=0  d=0 : 2 -4 1 1 -4\n",
      "E10.15 : 1110 : z=0  d=0 : 2 -4 1 1 -4\n",
      "E10.16 : 1111 : z=0  d=0 : 2 -4 1 1 -4\n",
      "Taux de réussite : 100.0%\n",
      "\n"
     ]
    }
   ],
   "source": [
    "while epoch < max_epochs:\n",
    "    accuracy = len(X)\n",
    "    for i in range(len(X)):\n",
    "        b, z = n.learn(X[i],Y[i])\n",
    "        accuracy -= 0 if b else 1\n",
    "        print(f\"E{epoch:02}.{i+1:02} : {''.join(X[i].astype('str'))} : z={z}  d={Y[i]} : {' '.join(n.weights.astype('str'))} {n.bias}\")\n",
    "    print(f\"Taux de réussite : {round(100*accuracy/len(X),2)}%\")\n",
    "    print()\n",
    "    if accuracy == len(X) or epoch >= max_epochs:\n",
    "        break\n",
    "    epoch+=1"
   ]
  },
  {
   "cell_type": "code",
   "execution_count": 9,
   "id": "e932a50b-d3ac-4699-91d5-3ccc0bac8e0c",
   "metadata": {},
   "outputs": [
    {
     "data": {
      "text/plain": [
       "[0, 0, 0, 0, 0, 0, 0, 0, 0, 0, 0, 1, 0, 0, 0, 0]"
      ]
     },
     "execution_count": 9,
     "metadata": {},
     "output_type": "execute_result"
    }
   ],
   "source": [
    "[n.forward(x) for x in X]"
   ]
  },
  {
   "cell_type": "code",
   "execution_count": 10,
   "id": "80cf544b-e1ad-444d-a04b-fe892b2d0100",
   "metadata": {},
   "outputs": [
    {
     "data": {
      "text/plain": [
       "(array([ 2, -4,  1,  1]), -4)"
      ]
     },
     "execution_count": 10,
     "metadata": {},
     "output_type": "execute_result"
    }
   ],
   "source": [
    "n.weights,n.bias"
   ]
  }
 ],
 "metadata": {
  "kernelspec": {
   "display_name": "Python 3 (ipykernel)",
   "language": "python",
   "name": "python3"
  },
  "language_info": {
   "codemirror_mode": {
    "name": "ipython",
    "version": 3
   },
   "file_extension": ".py",
   "mimetype": "text/x-python",
   "name": "python",
   "nbconvert_exporter": "python",
   "pygments_lexer": "ipython3",
   "version": "3.12.7"
  }
 },
 "nbformat": 4,
 "nbformat_minor": 5
}
